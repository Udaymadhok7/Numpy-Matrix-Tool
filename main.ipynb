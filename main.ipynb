{
 "cells": [
  {
   "cell_type": "markdown",
   "id": "9f849c35-07eb-4d4a-bca6-9d5b30453cfd",
   "metadata": {},
   "source": [
    "## Matrix Calculator Using Numpy"
   ]
  },
  {
   "cell_type": "code",
   "execution_count": 1,
   "id": "6847dcae-043b-4677-b6b2-f87d2b4c23db",
   "metadata": {},
   "outputs": [],
   "source": [
    "import numpy as np"
   ]
  },
  {
   "cell_type": "code",
   "execution_count": 2,
   "id": "7287f787-c41e-4d0b-bb4d-9b3058c91bdf",
   "metadata": {},
   "outputs": [],
   "source": [
    "def add_mtrx(matA,matB):\n",
    "    return np.add(matA,matB)"
   ]
  },
  {
   "cell_type": "code",
   "execution_count": 3,
   "id": "6d7741d4-1d74-470d-9d67-813b0867d34d",
   "metadata": {},
   "outputs": [],
   "source": [
    "def mul_mtrx(matA,matB):\n",
    "    return np.dot(matA,matB)"
   ]
  },
  {
   "cell_type": "code",
   "execution_count": 4,
   "id": "188f690c-6830-4bd0-89c3-ab5b269a694d",
   "metadata": {},
   "outputs": [],
   "source": [
    "def det_mtrx(matA):\n",
    "    return np.linalg.det(matA)"
   ]
  },
  {
   "cell_type": "code",
   "execution_count": 5,
   "id": "3a26cbbf-39bb-4c5d-a5d1-37f72a202c3e",
   "metadata": {},
   "outputs": [],
   "source": [
    "def trans_mtrx(matA):\n",
    "    return matA.T"
   ]
  },
  {
   "cell_type": "code",
   "execution_count": 6,
   "id": "d10439df-f0d1-455c-8245-c490731e6f00",
   "metadata": {},
   "outputs": [],
   "source": [
    "def inverse_mtrx(matA):\n",
    "    if det_mtrx(matA)==0:\n",
    "        return \"Inverse is not possible\"\n",
    "    return np.linalg.inv(matA)"
   ]
  },
  {
   "cell_type": "code",
   "execution_count": 7,
   "id": "f47f34bd-4dec-4cf2-833f-8d81d9391d10",
   "metadata": {},
   "outputs": [
    {
     "name": "stdout",
     "output_type": "stream",
     "text": [
      "[[1 2]\n",
      " [3 4]]\n",
      "---------\n",
      "[[5 6]\n",
      " [7 8]]\n",
      "Addition of two matrices: [[ 6  8]\n",
      " [10 12]]\n"
     ]
    }
   ],
   "source": [
    "matA=np.array([[1,2],[3,4]])\n",
    "matB=np.array([[5,6],[7,8]])\n",
    "\n",
    "print(matA)\n",
    "print(\"---------\")\n",
    "print(matB)\n",
    "\n",
    "print(\"Addition of two matrices:\",add_mtrx(matA,matB))\n",
    "\n"
   ]
  },
  {
   "cell_type": "code",
   "execution_count": 8,
   "id": "977d541e-561b-49cf-aa96-732c0d1887cc",
   "metadata": {},
   "outputs": [
    {
     "name": "stdout",
     "output_type": "stream",
     "text": [
      "[[1 2]\n",
      " [3 4]]\n",
      "---------\n",
      "[[5 6]\n",
      " [7 8]]\n",
      "multiplication of two matrices: [[19 22]\n",
      " [43 50]]\n"
     ]
    }
   ],
   "source": [
    "print(matA)\n",
    "print(\"---------\")\n",
    "print(matB)\n",
    "\n",
    "print(\"multiplication of two matrices:\",mul_mtrx(matA,matB))"
   ]
  },
  {
   "cell_type": "code",
   "execution_count": 9,
   "id": "9e23713e-a01b-4d7c-80cc-5499b4f54089",
   "metadata": {},
   "outputs": [
    {
     "name": "stdout",
     "output_type": "stream",
     "text": [
      "[[1 2]\n",
      " [3 4]]\n",
      "---------\n",
      "[[5 6]\n",
      " [7 8]]\n",
      "Determinant of  matrix A: -2.0000000000000004\n",
      "Determinant of  matrix B: -2.000000000000005\n"
     ]
    }
   ],
   "source": [
    "print(matA)\n",
    "print(\"---------\")\n",
    "print(matB)\n",
    "\n",
    "print(\"Determinant of  matrix A:\",det_mtrx(matA))\n",
    "print(\"Determinant of  matrix B:\",det_mtrx(matB))"
   ]
  },
  {
   "cell_type": "markdown",
   "id": "e67cb404-25f4-48e0-8fa9-e53b8507a968",
   "metadata": {},
   "source": []
  },
  {
   "cell_type": "code",
   "execution_count": 10,
   "id": "ad911878-5832-4973-b5c9-262778131260",
   "metadata": {},
   "outputs": [
    {
     "name": "stdout",
     "output_type": "stream",
     "text": [
      "[[1 2]\n",
      " [3 4]]\n",
      "---------\n",
      "[[5 6]\n",
      " [7 8]]\n",
      "transpose of matrix A: [[1 3]\n",
      " [2 4]]\n",
      "transpose of matrix B: [[5 7]\n",
      " [6 8]]\n"
     ]
    }
   ],
   "source": [
    "print(matA)\n",
    "print(\"---------\")\n",
    "print(matB)\n",
    "\n",
    "print(\"transpose of matrix A:\",trans_mtrx(matA))\n",
    "print(\"transpose of matrix B:\",trans_mtrx(matB))"
   ]
  },
  {
   "cell_type": "code",
   "execution_count": 11,
   "id": "0c35337c-014a-427c-87c9-ad87b4c7e9e6",
   "metadata": {},
   "outputs": [
    {
     "name": "stdout",
     "output_type": "stream",
     "text": [
      "[[1 2]\n",
      " [3 4]]\n",
      "---------\n",
      "[[5 6]\n",
      " [7 8]]\n",
      "nverse of matrix A: [[-2.   1. ]\n",
      " [ 1.5 -0.5]]\n",
      "nverse of matrix B: [[-4.   3. ]\n",
      " [ 3.5 -2.5]]\n"
     ]
    }
   ],
   "source": [
    "print(matA)\n",
    "print(\"---------\")\n",
    "print(matB)\n",
    "\n",
    "print(\"Inverse of matrix A:\",inverse_mtrx(matA))\n",
    "print(\"Inverse of matrix B:\",inverse_mtrx(matB))\n"
   ]
  }
 ],
 "metadata": {
  "kernelspec": {
   "display_name": "Python [conda env:base] *",
   "language": "python",
   "name": "conda-base-py"
  },
  "language_info": {
   "codemirror_mode": {
    "name": "ipython",
    "version": 3
   },
   "file_extension": ".py",
   "mimetype": "text/x-python",
   "name": "python",
   "nbconvert_exporter": "python",
   "pygments_lexer": "ipython3",
   "version": "3.13.5"
  }
 },
 "nbformat": 4,
 "nbformat_minor": 5
}
